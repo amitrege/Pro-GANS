{
  "nbformat": 4,
  "nbformat_minor": 0,
  "metadata": {
    "colab": {
      "name": "Data-Generation.ipynb",
      "version": "0.3.2",
      "provenance": []
    },
    "language_info": {
      "codemirror_mode": {
        "name": "ipython",
        "version": 3
      },
      "file_extension": ".py",
      "mimetype": "text/x-python",
      "name": "python",
      "nbconvert_exporter": "python",
      "pygments_lexer": "ipython3",
      "version": "3.6.6"
    },
    "kernelspec": {
      "display_name": "Python 3",
      "language": "python",
      "name": "python3"
    }
  },
  "cells": [
    {
      "metadata": {
        "id": "9m-earbwEn7v",
        "colab_type": "text"
      },
      "cell_type": "markdown",
      "source": [
        "# Imports"
      ]
    },
    {
      "metadata": {
        "id": "OG0q5Ea4Efzp",
        "colab_type": "code",
        "colab": {}
      },
      "cell_type": "code",
      "source": [
        "from PIL import Image, ImageDraw\n",
        "import numpy as np\n",
        "from sklearn import datasets"
      ],
      "execution_count": 0,
      "outputs": []
    },
    {
      "metadata": {
        "id": "j9MBJh1iEsyQ",
        "colab_type": "text"
      },
      "cell_type": "markdown",
      "source": [
        "# Setup"
      ]
    },
    {
      "metadata": {
        "id": "S3XvghhYEs-U",
        "colab_type": "code",
        "outputId": "fa42297f-6345-4ff1-f3ba-0f8cf48c59d0",
        "colab": {
          "base_uri": "https://localhost:8080/",
          "height": 182
        }
      },
      "cell_type": "code",
      "source": [
        "# Mount CU Drive\n",
        "from google.colab import drive\n",
        "drive.mount('/content/drive')\n",
        "\n",
        "!mkdir drive/My\\ Drive/synthetic-ds\n",
        "!mkdir drive/My\\ Drive/synthetic-ds/ct2\n",
        "!mkdir drive/My\\ Drive/synthetic-ds/ctp2\n",
        "!mkdir drive/My\\ Drive/synthetic-ds/squares\n",
        "!mkdir drive/My\\ Drive/synthetic-ds/point\n",
        "!mkdir drive/My\\ Drive/synthetic-ds/point/circles\n",
        "!mkdir drive/My\\ Drive/synthetic-ds/point/s_curves\n",
        "!mkdir drive/My\\ Drive/synthetic-ds/point/swiss_roll"
      ],
      "execution_count": 0,
      "outputs": [
        {
          "output_type": "stream",
          "text": [
            "Drive already mounted at /content/drive; to attempt to forcibly remount, call drive.mount(\"/content/drive\", force_remount=True).\n",
            "mkdir: cannot create directory ‘drive/My Drive/synthetic-ds’: File exists\n",
            "mkdir: cannot create directory ‘drive/My Drive/synthetic-ds/ct2’: File exists\n",
            "mkdir: cannot create directory ‘drive/My Drive/synthetic-ds/ctp2’: File exists\n",
            "mkdir: cannot create directory ‘drive/My Drive/synthetic-ds/squares’: File exists\n",
            "mkdir: cannot create directory ‘drive/My Drive/synthetic-ds/point’: File exists\n",
            "mkdir: cannot create directory ‘drive/My Drive/synthetic-ds/point/circles’: File exists\n",
            "mkdir: cannot create directory ‘drive/My Drive/synthetic-ds/point/s_curves’: File exists\n"
          ],
          "name": "stdout"
        }
      ]
    },
    {
      "metadata": {
        "id": "Cb5sZYASEwVT",
        "colab_type": "text"
      },
      "cell_type": "markdown",
      "source": [
        "# Image Dataset Generation"
      ]
    },
    {
      "metadata": {
        "id": "cO6nsN7DMQ3n",
        "colab_type": "text"
      },
      "cell_type": "markdown",
      "source": [
        "## Squares"
      ]
    },
    {
      "metadata": {
        "id": "-qiaStMpMRFx",
        "colab_type": "code",
        "colab": {}
      },
      "cell_type": "code",
      "source": [
        "def get_sample(mean, stdev):\n",
        "    return np.random.multivariate_normal(mean, (stdev**2)*np.identity(2))\n",
        "\n",
        "def gen_mixture(no_of_dist, dataset_size, scaling_factor = (100, 10)):\n",
        "    # Generate means and stdev of the mixture\n",
        "    mean = np.random.rand(no_of_dist, 2)* scaling_factor[0]\n",
        "    stdev = np.random.rand(no_of_dist)* scaling_factor[1]\n",
        "\n",
        "    # Generate dataset\n",
        "    idx = np.random.randint(0, high = no_of_dist, size = dataset_size)\n",
        "    mean_arr = mean[idx]\n",
        "    stdev_arr = stdev[idx]\n",
        "\n",
        "    data = np.zeros((dataset_size, 2))\n",
        "    for i in range(dataset_size):\n",
        "        data[i] = get_sample(mean_arr[i], stdev_arr[i])\n",
        "    \n",
        "    return idx, data, mean, stdev\n",
        "\n",
        "# Fixed size of images : 64 x 64 x 1\n",
        "# For simplicity keep size of squares to be exponents of 2 i.e. 2, 4, 8 ...\n",
        "def draw_square(im, square_size, im_size, top_left = None):\n",
        "    if top_left is None:\n",
        "      top_left = np.random.randint(0, high = im_size - square_size, size = 2)\n",
        "    \n",
        "    # Set colour \n",
        "    im[top_left[0] : top_left[0] + square_size, top_left[1] : top_left[1] + square_size] = 1\n",
        "\n",
        "    return im, top_left\n",
        "\n",
        "def non_overlapping_square(im, no_of_squares, square_size, im_size):\n",
        "    bad_corners = True\n",
        "    while bad_corners:\n",
        "        top_left = np.random.randint(0, high = im_size - square_size - 1, size = (no_of_squares, 2))\n",
        "        new_im = np.copy(im)\n",
        "        found_combination = False\n",
        "        for i in range(0, no_of_squares):\n",
        "            relevant_square = new_im[top_left[i][0]: top_left[i][0] + square_size, top_left[i][1] : top_left[i][1] + square_size] \n",
        "            neighbors = relevant_square[relevant_square == 1]\n",
        "            if neighbors.shape[0] == 0:\n",
        "                draw_square(new_im, square_size, im_size, top_left[i])\n",
        "                if i == no_of_squares - 1:\n",
        "                    found_combination = True\n",
        "            else:\n",
        "                bad_corners = True\n",
        "                break\n",
        "\n",
        "        if bad_corners and not found_combination:\n",
        "            continue\n",
        "        bad_corners = False\n",
        "    return new_im\n",
        "\n",
        "\n",
        "\n",
        "def gen_square_image(no_of_squares, square_size, overlap, im_size):\n",
        "    im = np.zeros((im_size, im_size))\n",
        "\n",
        "    idx = []\n",
        "    if overlap:\n",
        "        for i in range(no_of_squares):\n",
        "            im, ind = draw_square(im, square_size, im_size)\n",
        "            idx.append(ind)\n",
        "    else:\n",
        "        im = non_overlapping_square(im, no_of_squares, square_size, im_size)\n",
        "\n",
        "    return im\n",
        "  \n",
        "def gen_square_dataset(no_of_squares, square_size, dataset_size, overlap, im_size = 128):\n",
        "  ds = np.zeros((dataset_size, im_size, im_size))\n",
        "  for i in range(dataset_size):\n",
        "    ds[i] = gen_square_image(no_of_squares, square_size, overlap, im_size)\n",
        "  return ds"
      ],
      "execution_count": 0,
      "outputs": []
    },
    {
      "metadata": {
        "id": "_RgR6uPeRlq0",
        "colab_type": "code",
        "colab": {
          "base_uri": "https://localhost:8080/",
          "height": 232
        },
        "outputId": "1e165e21-5450-479e-9ce8-3f28f47d16c0"
      },
      "cell_type": "code",
      "source": [
        "# Save dataset with 1 square of size 32 \n",
        "ds = gen_square_dataset(1, 32, 5000, False)\n",
        "np.save(\"drive/My Drive/synthetic-ds/squares/1-32.npy\", ds)\n",
        "\n",
        "# Save dataset with 4 squares of size 16 \n",
        "ds = gen_square_dataset(4, 16, 5000, False)\n",
        "np.save(\"drive/My Drive/synthetic-ds/squares/4-16.npy\", ds)\n",
        "\n",
        "# Save dataset with 10 squares of size 8 \n",
        "ds = gen_square_dataset(10, 8, 5000, False)\n",
        "np.save(\"drive/My Drive/synthetic-ds/squares/4-16.npy\", ds)\n",
        "\n",
        "# Save dataset with 10 squares of size 8 \n",
        "ds = gen_square_dataset(1, 16, 5000, False)\n",
        "np.save(\"drive/My Drive/synthetic-ds/squares/1-16-28x28.npy\", ds, im_size = 28)"
      ],
      "execution_count": 1,
      "outputs": [
        {
          "output_type": "error",
          "ename": "NameError",
          "evalue": "ignored",
          "traceback": [
            "\u001b[0;31m---------------------------------------------------------------------------\u001b[0m",
            "\u001b[0;31mNameError\u001b[0m                                 Traceback (most recent call last)",
            "\u001b[0;32m<ipython-input-1-0ba24d34a28f>\u001b[0m in \u001b[0;36m<module>\u001b[0;34m()\u001b[0m\n\u001b[0;32m----> 1\u001b[0;31m \u001b[0mds\u001b[0m \u001b[0;34m=\u001b[0m \u001b[0mgen_square_dataset\u001b[0m\u001b[0;34m(\u001b[0m\u001b[0;36m1\u001b[0m\u001b[0;34m,\u001b[0m \u001b[0;36m32\u001b[0m\u001b[0;34m,\u001b[0m \u001b[0;36m5000\u001b[0m\u001b[0;34m,\u001b[0m \u001b[0;32mFalse\u001b[0m\u001b[0;34m)\u001b[0m\u001b[0;34m\u001b[0m\u001b[0;34m\u001b[0m\u001b[0m\n\u001b[0m\u001b[1;32m      2\u001b[0m \u001b[0mnp\u001b[0m\u001b[0;34m.\u001b[0m\u001b[0msave\u001b[0m\u001b[0;34m(\u001b[0m\u001b[0;34m\"drive/My Drive/synthetic-ds/squares/1-32.npy\"\u001b[0m\u001b[0;34m,\u001b[0m \u001b[0mds\u001b[0m\u001b[0;34m)\u001b[0m\u001b[0;34m\u001b[0m\u001b[0;34m\u001b[0m\u001b[0m\n\u001b[1;32m      3\u001b[0m \u001b[0;34m\u001b[0m\u001b[0m\n\u001b[1;32m      4\u001b[0m \u001b[0;31m# Save dataset with 4 squares of size 16\u001b[0m\u001b[0;34m\u001b[0m\u001b[0;34m\u001b[0m\u001b[0;34m\u001b[0m\u001b[0m\n\u001b[1;32m      5\u001b[0m \u001b[0mds\u001b[0m \u001b[0;34m=\u001b[0m \u001b[0mgen_square_dataset\u001b[0m\u001b[0;34m(\u001b[0m\u001b[0;36m4\u001b[0m\u001b[0;34m,\u001b[0m \u001b[0;36m16\u001b[0m\u001b[0;34m,\u001b[0m \u001b[0;36m5000\u001b[0m\u001b[0;34m,\u001b[0m \u001b[0;32mFalse\u001b[0m\u001b[0;34m)\u001b[0m\u001b[0;34m\u001b[0m\u001b[0;34m\u001b[0m\u001b[0m\n",
            "\u001b[0;31mNameError\u001b[0m: name 'gen_square_dataset' is not defined"
          ]
        }
      ]
    },
    {
      "metadata": {
        "id": "9ByiA9oPMIGm",
        "colab_type": "text"
      },
      "cell_type": "markdown",
      "source": [
        "## Mixture of Polygons"
      ]
    },
    {
      "metadata": {
        "id": "SchDe38sMUjR",
        "colab_type": "text"
      },
      "cell_type": "markdown",
      "source": [
        "### Code"
      ]
    },
    {
      "metadata": {
        "id": "ZuDcDzZpFjuz",
        "colab_type": "code",
        "colab": {}
      },
      "cell_type": "code",
      "source": [
        "def generate_ct2(im_path, im_size):\n",
        "  image = Image.new('RGB', (im_size, im_size))\n",
        "  image.save(im_path, \"PNG\")\n",
        "  \n",
        "  image = Image.open(im_path)\n",
        "  draw = ImageDraw.Draw(image)\n",
        "\n",
        "  # Draw 2 circles\n",
        "  x = np.random.randint(10, high = im_size - 10)\n",
        "  y = np.random.randint(10, high = im_size - 10)\n",
        "  r = np.random.randint(min(x, y, im_size - x, im_size - y))\n",
        "  draw.ellipse((x-r, y-r, x+r, y+r), fill= (np.random.randint(256), np.random.randint(256), np.random.randint(256)))\n",
        "  \n",
        "  x = np.random.randint(10, high = im_size - 10)\n",
        "  y = np.random.randint(10, high = im_size - 10)\n",
        "  r = np.random.randint(min(x, y, im_size - x, im_size - y))\n",
        "  draw.ellipse((x-r, y-r, x+r, y+r), fill= (np.random.randint(256), np.random.randint(256), np.random.randint(256)))\n",
        "  \n",
        "  # Draw 2 triangles\n",
        "  points = ((np.random.randint(im_size), np.random.randint(im_size)), (np.random.randint(im_size), np.random.randint(im_size)), (np.random.randint(im_size), np.random.randint(im_size)))\n",
        "  draw.polygon((points), fill= (np.random.randint(256), np.random.randint(256), np.random.randint(256)))\n",
        "  \n",
        "  points = ((np.random.randint(im_size), np.random.randint(im_size)), (np.random.randint(im_size), np.random.randint(im_size)), (np.random.randint(im_size), np.random.randint(im_size)))\n",
        "  draw.polygon((points), fill= (np.random.randint(256), np.random.randint(256), np.random.randint(256)))\n",
        "\n",
        "  image.save(im_path)\n",
        "  \n",
        "def generate_ctp2(im_path, im_size):\n",
        "  # Create new image (all black)\n",
        "  image = Image.new('RGB', (im_size, im_size))\n",
        "  draw = ImageDraw.Draw(image)\n",
        "\n",
        "  # Draw 2 circles\n",
        "  x = np.random.randint(10, high = im_size - 10)\n",
        "  y = np.random.randint(10, high = im_size - 10)\n",
        "  r = np.random.randint(min(x, y, im_size - x, im_size - y))\n",
        "  draw.ellipse((x-r, y-r, x+r, y+r), fill= (np.random.randint(256), np.random.randint(256), np.random.randint(256)))\n",
        "  \n",
        "  x = np.random.randint(10, high = im_size - 10)\n",
        "  y = np.random.randint(10, high = im_size - 10)\n",
        "  r = np.random.randint(min(x, y, im_size - x, im_size - y))\n",
        "  draw.ellipse((x-r, y-r, x+r, y+r), fill= (np.random.randint(256), np.random.randint(256), np.random.randint(256)))\n",
        "  \n",
        "  # Draw 2 triangles\n",
        "  points = ((np.random.randint(im_size), np.random.randint(im_size)), (np.random.randint(im_size), np.random.randint(im_size)), (np.random.randint(im_size), np.random.randint(im_size)))\n",
        "  draw.polygon((points), fill= (np.random.randint(256), np.random.randint(256), np.random.randint(256)))\n",
        "  \n",
        "  points = ((np.random.randint(im_size), np.random.randint(im_size)), (np.random.randint(im_size), np.random.randint(im_size)), (np.random.randint(im_size), np.random.randint(im_size)))\n",
        "  draw.polygon((points), fill= (np.random.randint(256), np.random.randint(256), np.random.randint(256)))\n",
        "  \n",
        "  # Draw 2 polygons (4 sided)\n",
        "  points = ((np.random.randint(im_size), np.random.randint(im_size)), (np.random.randint(im_size), np.random.randint(im_size)), (np.random.randint(im_size), np.random.randint(im_size)), (np.random.randint(im_size), np.random.randint(im_size)))\n",
        "  draw.polygon((points), fill= (np.random.randint(256), np.random.randint(256), np.random.randint(256)))\n",
        "  \n",
        "  points = ((np.random.randint(im_size), np.random.randint(im_size)), (np.random.randint(im_size), np.random.randint(im_size)), (np.random.randint(im_size), np.random.randint(im_size)), (np.random.randint(im_size), np.random.randint(im_size)))\n",
        "  draw.polygon((points), fill= (np.random.randint(256), np.random.randint(256), np.random.randint(256)))\n",
        "\n",
        "  image.save()\n",
        "\n",
        "def gen_image_dataset(image_name, im_size, dataset_size, image_generator, path):\n",
        "  im_path = path + image_name\n",
        "  for i in range(dataset_size):\n",
        "    image_generator(im_path + str(i) + '.png', im_size)"
      ],
      "execution_count": 0,
      "outputs": []
    },
    {
      "metadata": {
        "id": "KpUkIlj8Mags",
        "colab_type": "text"
      },
      "cell_type": "markdown",
      "source": [
        "### Generation"
      ]
    },
    {
      "metadata": {
        "id": "IwhmvIqDH1Xi",
        "colab_type": "code",
        "colab": {}
      },
      "cell_type": "code",
      "source": [
        "gen_image_dataset('image', 128, 5000, generate_ct2, 'drive/My Drive/synthetic-ds/ct2/')\n",
        "gen_image_dataset('image', 128, 5000, generate_ctp2, 'drive/My Drive/synthetic-ds/ctp2/')"
      ],
      "execution_count": 0,
      "outputs": []
    },
    {
      "metadata": {
        "id": "kgvnsALSMdCk",
        "colab_type": "text"
      },
      "cell_type": "markdown",
      "source": [
        "### Utilites for testing"
      ]
    },
    {
      "metadata": {
        "id": "5VBd5tSPJnbj",
        "colab_type": "code",
        "colab": {}
      },
      "cell_type": "code",
      "source": [
        "# Check if the files have been generated \n",
        "!ls drive/My\\ Drive/synthetic-ds/ct2/\n",
        "!ls drive/My\\ Drive/synthetic-ds/ctp2/"
      ],
      "execution_count": 0,
      "outputs": []
    },
    {
      "metadata": {
        "id": "RvpL6q6cEwe1",
        "colab_type": "code",
        "outputId": "9867ce2b-4680-4e71-8c55-0b954b399984",
        "colab": {
          "base_uri": "https://localhost:8080/",
          "height": 63
        }
      },
      "cell_type": "code",
      "source": [
        "# Delete all files in relevant folders\n",
        "!rm drive/My\\ Drive/synthetic-ds/ct2/*\n",
        "!rm drive/My\\ Drive/synthetic-ds/ctp2/*"
      ],
      "execution_count": 0,
      "outputs": [
        {
          "output_type": "stream",
          "text": [
            "rm: cannot remove 'drive/My Drive/synthetic-ds/ctp2/*': No such file or directory\n"
          ],
          "name": "stdout"
        }
      ]
    },
    {
      "metadata": {
        "id": "-bSwOViJTcUP",
        "colab_type": "text"
      },
      "cell_type": "markdown",
      "source": [
        "# Point (in $R^n$) Dataset Generation "
      ]
    },
    {
      "metadata": {
        "id": "DX032VoVXqp8",
        "colab_type": "text"
      },
      "cell_type": "markdown",
      "source": [
        "## Circles"
      ]
    },
    {
      "metadata": {
        "id": "Owc5s4aITuos",
        "colab_type": "code",
        "colab": {}
      },
      "cell_type": "code",
      "source": [
        "circle_factor_1 = datasets.make_circles(n_samples = 5000, factor = 0.1, random_state = 0)\n",
        "circle_factor_5 = datasets.make_circles(n_samples = 5000, factor = 0.5, random_state = 0)\n",
        "circle_factor_9 = datasets.make_circles(n_samples = 5000, factor = 0.9, random_state = 0)\n",
        "\n",
        "circle_noise_5 = datasets.make_circles(n_samples = 5000, factor = 0.5, noise = 0.05, random_state = 0)\n",
        "circle_noise_10 = datasets.make_circles(n_samples = 5000, factor = 0.5, noise = 0.1, random_state = 0)\n",
        "circle_noise_50 = datasets.make_circles(n_samples = 5000, factor = 0.5, noise = 0.5, random_state = 0)"
      ],
      "execution_count": 0,
      "outputs": []
    },
    {
      "metadata": {
        "id": "yYTMK2IuYm9e",
        "colab_type": "code",
        "colab": {}
      },
      "cell_type": "code",
      "source": [
        "np.save('drive/My Drive/synthetic-ds/point/circles/circle_factor_1', np.column_stack((circle_factor_1[0], circle_factor_1[1])))\n",
        "np.save('drive/My Drive/synthetic-ds/point/circles/circle_factor_5', np.column_stack((circle_factor_5[0], circle_factor_5[1])))\n",
        "np.save('drive/My Drive/synthetic-ds/point/circles/circle_factor_9', np.column_stack((circle_factor_9[0], circle_factor_9[1])))\n",
        "\n",
        "np.save('drive/My Drive/synthetic-ds/point/circles/circle_noise_5', np.column_stack((circle_noise_5[0], circle_noise_5[1])))\n",
        "np.save('drive/My Drive/synthetic-ds/point/circles/circle_noise_10', np.column_stack((circle_noise_10[0], circle_noise_10[1])))\n",
        "np.save('drive/My Drive/synthetic-ds/point/circles/circle_noise_50', np.column_stack((circle_noise_50[0], circle_noise_50[1])))"
      ],
      "execution_count": 0,
      "outputs": []
    },
    {
      "metadata": {
        "id": "r263XCOZcCkK",
        "colab_type": "text"
      },
      "cell_type": "markdown",
      "source": [
        "## S Curve"
      ]
    },
    {
      "metadata": {
        "id": "qfl0YpdoaEJW",
        "colab_type": "code",
        "colab": {}
      },
      "cell_type": "code",
      "source": [
        "scurve_noise_5 = datasets.make_s_curve(n_samples = 5000, noise = 0.05, random_state = 0)\n",
        "scurve_noise_10 = datasets.make_s_curve(n_samples = 5000, noise = 0.1, random_state = 0)\n",
        "scurve_noise_50 = datasets.make_s_curve(n_samples = 5000, noise = 0.5, random_state = 0)"
      ],
      "execution_count": 0,
      "outputs": []
    },
    {
      "metadata": {
        "id": "EskCQsSQc1wz",
        "colab_type": "code",
        "colab": {}
      },
      "cell_type": "code",
      "source": [
        "np.save('drive/My Drive/synthetic-ds/point/s_curves/scurve_noise_5', np.column_stack((scurve_noise_5[0], scurve_noise_5[1])))\n",
        "np.save('drive/My Drive/synthetic-ds/point/s_curves/scurve_noise_10', np.column_stack((scurve_noise_10[0], scurve_noise_10[1])))\n",
        "np.save('drive/My Drive/synthetic-ds/point/s_curves/scurve_noise_50', np.column_stack((scurve_noise_50[0], scurve_noise_50[1])))"
      ],
      "execution_count": 0,
      "outputs": []
    },
    {
      "metadata": {
        "id": "NAkiRWMxdEQZ",
        "colab_type": "text"
      },
      "cell_type": "markdown",
      "source": [
        "## Swiss Roll"
      ]
    },
    {
      "metadata": {
        "id": "q6RaFk1cdEbG",
        "colab_type": "code",
        "colab": {}
      },
      "cell_type": "code",
      "source": [
        "roll_noise_5 = datasets.make_swiss_roll(n_samples = 5000, noise = 0.05, random_state = 0)\n",
        "roll_noise_10 = datasets.make_swiss_roll(n_samples = 5000, noise = 0.1, random_state = 0)\n",
        "roll_noise_50 = datasets.make_swiss_roll(n_samples = 5000, noise = 0.5, random_state = 0)"
      ],
      "execution_count": 0,
      "outputs": []
    },
    {
      "metadata": {
        "id": "1pvrCclidEsO",
        "colab_type": "code",
        "colab": {}
      },
      "cell_type": "code",
      "source": [
        "np.save('drive/My Drive/synthetic-ds/point/swiss_roll/roll_noise_5', np.column_stack((roll_noise_5[0], roll_noise_5[1])))\n",
        "np.save('drive/My Drive/synthetic-ds/point/swiss_roll/roll_noise_10', np.column_stack((roll_noise_10[0], roll_noise_10[1])))\n",
        "np.save('drive/My Drive/synthetic-ds/point/swiss_roll/roll_noise_50', np.column_stack((roll_noise_50[0], roll_noise_50[1])))"
      ],
      "execution_count": 0,
      "outputs": []
    },
    {
      "metadata": {
        "id": "ASOIQ39Ld7e2",
        "colab_type": "text"
      },
      "cell_type": "markdown",
      "source": [
        "## Clusters"
      ]
    },
    {
      "metadata": {
        "id": "F8wpNwF0d7nV",
        "colab_type": "code",
        "colab": {}
      },
      "cell_type": "code",
      "source": [
        ""
      ],
      "execution_count": 0,
      "outputs": []
    }
  ]
}